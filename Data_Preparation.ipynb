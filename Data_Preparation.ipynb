{
 "cells": [
  {
   "cell_type": "markdown",
   "metadata": {},
   "source": [
    "# Preparación de los datos"
   ]
  },
  {
   "cell_type": "markdown",
   "metadata": {},
   "source": [
    "### Librerías"
   ]
  },
  {
   "cell_type": "code",
   "execution_count": 16,
   "metadata": {},
   "outputs": [],
   "source": [
    "import medmnist\n",
    "from medmnist import INFO\n",
    "from medmnist.dataset import DermaMNIST\n",
    "\n",
    "import numpy as np\n",
    "import matplotlib.pyplot as plt\n",
    "\n",
    "from tqdm import tqdm\n",
    "import dataset_without_pytorch\n",
    "from dataset_without_pytorch import get_loader\n",
    "\n",
    "from sklearn.cluster import KMeans"
   ]
  },
  {
   "cell_type": "markdown",
   "metadata": {},
   "source": [
    "### Carga y preparación de datos DermaMNIST"
   ]
  },
  {
   "cell_type": "markdown",
   "metadata": {},
   "source": [
    "Carga y prepara el conjunto de datos DermaMNIST. Configura parámetros clave como épocas, tamaño de lote y tasa de aprendizaje, obtiene la clase del dataset (de las 7 existentes), y organiza los datos en un DataLoader para facilitar su procesamiento en lotes."
   ]
  },
  {
   "cell_type": "code",
   "execution_count": 7,
   "metadata": {},
   "outputs": [
    {
     "name": "stdout",
     "output_type": "stream",
     "text": [
      "Using downloaded and verified file: C:\\Users\\matun\\.medmnist\\dermamnist.npz\n"
     ]
    }
   ],
   "source": [
    "data_flag = 'dermamnist'\n",
    "download = True\n",
    "\n",
    "BATCH_SIZE = 128 #Lote tamanio\n",
    "\n",
    "info_28 = INFO[data_flag] # Info\n",
    "\n",
    "# Obtener dinamicamente la clase del conjunto de datos desde un modulo\n",
    "DataClass_28 = getattr(dataset_without_pytorch, info_28['python_class'])\n",
    "\n",
    "train_dataset_28 = DataClass_28(split='train', download=download)\n",
    "\n",
    "# Encapsular los datos en un DataLoader para hacer lotes\n",
    "train_loader_28 = get_loader(dataset=train_dataset_28, batch_size=BATCH_SIZE)"
   ]
  },
  {
   "cell_type": "markdown",
   "metadata": {},
   "source": [
    "Acceso Directo a Imágenes y Etiquetas del Conjunto de Datos de Entrenamiento"
   ]
  },
  {
   "cell_type": "code",
   "execution_count": 8,
   "metadata": {},
   "outputs": [],
   "source": [
    "images = train_dataset_28.imgs\n",
    "labels = train_dataset_28.labels"
   ]
  },
  {
   "cell_type": "markdown",
   "metadata": {},
   "source": [
    "## Reducción de datos en la clase 5: *Melanocytic Nevi*"
   ]
  },
  {
   "cell_type": "markdown",
   "metadata": {},
   "source": [
    "Se aplica un reducción de elementos de magenes en la clase 5 dada su sobrerepresentación aplicando el algoritmo K Means para obtener una muestra representativa de 1000 magenes"
   ]
  },
  {
   "cell_type": "code",
   "execution_count": 9,
   "metadata": {},
   "outputs": [],
   "source": [
    "images_class_5 = [image for image, label in zip(images, labels) if label == 5]"
   ]
  },
  {
   "cell_type": "code",
   "execution_count": 10,
   "metadata": {},
   "outputs": [
    {
     "data": {
      "text/plain": [
       "4693"
      ]
     },
     "execution_count": 10,
     "metadata": {},
     "output_type": "execute_result"
    }
   ],
   "source": [
    "len(images_class_5)"
   ]
  },
  {
   "cell_type": "markdown",
   "metadata": {},
   "source": [
    "Convertir las imágenes a un formato adecuado para K-means (aplanar cada imagen), dado que las imágenes están en formato (28, 28, 3), las aplanamos a (28 * 28 * 3)"
   ]
  },
  {
   "cell_type": "code",
   "execution_count": 11,
   "metadata": {},
   "outputs": [],
   "source": [
    "flattened_images = [image.flatten() for image in images_class_5]"
   ]
  },
  {
   "cell_type": "markdown",
   "metadata": {},
   "source": [
    "Seleccionar las 1000 imágenes representativas"
   ]
  },
  {
   "cell_type": "code",
   "execution_count": 13,
   "metadata": {},
   "outputs": [],
   "source": [
    "# Aplicar K-means con 1000 clusters\n",
    "kmeans = KMeans(n_clusters=1000, random_state=42)\n",
    "kmeans.fit(flattened_images)\n",
    "\n",
    "# Obtener los centros de los clusters\n",
    "cluster_centers = kmeans.cluster_centers_\n",
    "\n",
    "# Para cada centroide, encontrar la imagen más cercana en el conjunto original\n",
    "selected_images = []\n",
    "for center in cluster_centers:\n",
    "    # Calcular la distancia entre el centroide y todas las imágenes\n",
    "    distances = np.linalg.norm(flattened_images - center, axis=1)\n",
    "    # Encontrar el índice de la imagen más cercana\n",
    "    closest_image_index = np.argmin(distances)\n",
    "    # Añadir la imagen más cercana a la lista de imágenes seleccionadas\n",
    "    selected_images.append(images_class_5[closest_image_index])\n"
   ]
  },
  {
   "cell_type": "markdown",
   "metadata": {},
   "source": [
    "### Reeestructuracon de los datos de entrenamiento"
   ]
  },
  {
   "cell_type": "code",
   "execution_count": 14,
   "metadata": {},
   "outputs": [],
   "source": [
    "# Filtrar imágenes y etiquetas de todas las clases excepto la clase 5\n",
    "images_other_classes = [image for image, label in zip(images, labels) if label != 5]\n",
    "labels_other_classes = [label for label in labels if label != 5]\n",
    "\n",
    "# Crear etiquetas para las imágenes seleccionadas de la clase 5\n",
    "selected_labels = [5] * len(selected_images)\n",
    "\n",
    "# Combinar las imágenes y etiquetas de las otras clases con las seleccionadas de la clase 5\n",
    "new_images = images_other_classes + selected_images\n",
    "new_labels = labels_other_classes + selected_labels"
   ]
  },
  {
   "cell_type": "markdown",
   "metadata": {},
   "source": [
    "Verificamos distribución de los datos"
   ]
  },
  {
   "cell_type": "code",
   "execution_count": 21,
   "metadata": {},
   "outputs": [
    {
     "name": "stderr",
     "output_type": "stream",
     "text": [
      "C:\\Users\\matun\\AppData\\Local\\Temp\\ipykernel_12900\\3628801159.py:2: DeprecationWarning: Conversion of an array with ndim > 0 to a scalar is deprecated, and will error in future. Ensure you extract a single element from your array before performing this operation. (Deprecated NumPy 1.25.)\n",
      "  new_labels_scalar = [int(label) for label in new_labels]\n"
     ]
    },
    {
     "data": {
      "image/png": "[encoded data removed]",
      "text/plain": [
       "<Figure size 1000x600 with 1 Axes>"
      ]
     },
     "metadata": {},
     "output_type": "display_data"
    }
   ],
   "source": [
    "# Asegurarse de que las etiquetas sean valores escalares\n",
    "new_labels_scalar = [int(label) for label in new_labels]\n",
    "\n",
    "# Calcular el número de imágenes por clase\n",
    "unique_classes = set(new_labels_scalar)\n",
    "class_counts = {cls: new_labels_scalar.count(cls) for cls in unique_classes}\n",
    "\n",
    "plt.figure(figsize=(10, 6))\n",
    "plt.bar(class_counts.keys(), class_counts.values(), color='#2FF5AC')\n",
    "plt.xlabel('Clase')\n",
    "plt.ylabel('Número de Imágenes')\n",
    "plt.title('Distribución de Imágenes por Clase en el Nuevo Conjunto de Datos')\n",
    "plt.xticks(list(class_counts.keys()))\n",
    "plt.show()"
   ]
  }
 ],
 "metadata": {
  "kernelspec": {
   "display_name": "Python 3",
   "language": "python",
   "name": "python3"
  },
  "language_info": {
   "codemirror_mode": {
    "name": "ipython",
    "version": 3
   },
   "file_extension": ".py",
   "mimetype": "text/x-python",
   "name": "python",
   "nbconvert_exporter": "python",
   "pygments_lexer": "ipython3",
   "version": "3.12.1"
  }
 },
 "nbformat": 4,
 "nbformat_minor": 2
}
